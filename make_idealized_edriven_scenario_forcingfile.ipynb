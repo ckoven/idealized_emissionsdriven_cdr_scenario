{
 "cells": [
  {
   "cell_type": "markdown",
   "metadata": {},
   "source": [
    "# Notebook for making a CO$_2$ emissions file for emissions-driven CESM2"
   ]
  },
  {
   "cell_type": "markdown",
   "metadata": {},
   "source": [
    "### First load the necessary libraries"
   ]
  },
  {
   "cell_type": "code",
   "execution_count": null,
   "metadata": {},
   "outputs": [],
   "source": [
    "import numpy as np\n",
    "import matplotlib.pyplot as plt\n",
    "from numpy import genfromtxt\n",
    "from scipy import optimize as opt\n",
    "\n",
    "import pandas as pd\n",
    "import xarray as xr\n",
    "\n",
    "import netCDF4 as nc4\n",
    "\n",
    "import shutil\n",
    "import datetime\n",
    "import subprocess"
   ]
  },
  {
   "cell_type": "markdown",
   "metadata": {},
   "source": [
    "### define functions for a Gaussian and the first derivative of a Gaussian (these are the cumulatieve and annual CO$_2$ emissions timeseries)"
   ]
  },
  {
   "cell_type": "code",
   "execution_count": 2,
   "metadata": {},
   "outputs": [],
   "source": [
    "def gauss(t,a,b,c):\n",
    "    y = a*np.exp(-((t-b)**2.)/(2*c**2))\n",
    "    return(y)\n",
    "\n",
    "def gaussderiv(t,a,b,c):\n",
    "    y = (a*(b-t)*np.exp(-((b-t)**2.)/(2*c**2.)))/(c**2.)\n",
    "    return(y)"
   ]
  },
  {
   "cell_type": "markdown",
   "metadata": {},
   "source": [
    "### Make variables for the intended globally integrated CO$_2$ emissions and cumulative emissions, and plot."
   ]
  },
  {
   "cell_type": "code",
   "execution_count": 6,
   "metadata": {},
   "outputs": [
    {
     "data": {
      "text/plain": [
       "[<matplotlib.lines.Line2D at 0x1649a3d00>]"
      ]
     },
     "execution_count": 6,
     "metadata": {},
     "output_type": "execute_result"
    },
    {
     "data": {
      "image/png": "[encoded data removed]",
      "text/plain": [
       "<Figure size 432x288 with 1 Axes>"
      ]
     },
     "metadata": {
      "needs_background": "light"
     },
     "output_type": "display_data"
    }
   ],
   "source": [
    "t = np.arange(300)\n",
    "y = gaussderiv(t,1004,150,45)\n",
    "yy = gauss(t,1004,150,45)\n",
    "\n",
    "plt.plot(t,y.cumsum())\n",
    "plt.plot(t,yy)\n"
   ]
  },
  {
   "cell_type": "markdown",
   "metadata": {},
   "source": [
    "### Open a file containing gridcell areas for the resolution being used."
   ]
  },
  {
   "cell_type": "code",
   "execution_count": 3,
   "metadata": {},
   "outputs": [
    {
     "name": "stderr",
     "output_type": "stream",
     "text": [
      "/Users/cdkoven/miniconda2/envs/py3/lib/python3.7/site-packages/xarray/conventions.py:498: SerializationWarning: variable 'areacella' has multiple fill values {1e+20, 1e+20}, decoding all values to NaN.\n",
      "  decode_timedelta=decode_timedelta,\n"
     ]
    }
   ],
   "source": [
    "mapfile = xr.open_dataset('areacella_fx_CESM2_1pctCO2_r1i1p1f1_gn.nc')\n",
    "areas = mapfile['areacella'].sum()\n",
    "global_gridcell_integrated_area = float(areas.data)"
   ]
  },
  {
   "cell_type": "markdown",
   "metadata": {},
   "source": [
    "### Take a pre-existing CESM CO$_2$ emissions file, and copy it with a new filename."
   ]
  },
  {
   "cell_type": "code",
   "execution_count": 4,
   "metadata": {},
   "outputs": [
    {
     "data": {
      "text/plain": [
       "'emissions_idealized_edrivencdr_000101-031012_fv_0.9x1.25_cdk_20220218.nc'"
      ]
     },
     "execution_count": 4,
     "metadata": {},
     "output_type": "execute_result"
    }
   ],
   "source": [
    "fname_base = 'emissions-cmip6_CO2_anthro_surface_175001-201512_fv_0.9x1.25_c20181011.nc'\n",
    "\n",
    "datestring = str(datetime.date.today().year * 10000 + datetime.date.today().month * 100 + datetime.date.today().day)\n",
    "fname_new = 'emissions_idealized_edrivencdr_000101-031012_fv_0.9x1.25_cdk_'+datestring+'.nc'\n",
    "\n",
    "shutil.copyfile(fname_base, fname_new)"
   ]
  },
  {
   "cell_type": "markdown",
   "metadata": {},
   "source": [
    "### Open the newly-created file in read/write mode."
   ]
  },
  {
   "cell_type": "code",
   "execution_count": 5,
   "metadata": {},
   "outputs": [],
   "source": [
    "file = nc4.Dataset(fname_new, 'r+')\n"
   ]
  },
  {
   "cell_type": "markdown",
   "metadata": {},
   "source": [
    "### Rework the time coordinates in the new file. Since this is an idealized run, start at year 0."
   ]
  },
  {
   "cell_type": "code",
   "execution_count": 6,
   "metadata": {},
   "outputs": [],
   "source": [
    "time_firstyear = file.variables['time'][0:12]\n",
    "time_bnds_firstyear = file.variables['time_bnds'][0:12,:]"
   ]
  },
  {
   "cell_type": "code",
   "execution_count": 7,
   "metadata": {},
   "outputs": [],
   "source": [
    "nyears_out = 310\n",
    "ts_out = nyears_out * 12\n",
    "year_out = np.floor(np.arange(ts_out) / 12)\n",
    "month_out = np.tile(time_firstyear,nyears_out)\n",
    "date_out = year_out*365 + month_out"
   ]
  },
  {
   "cell_type": "code",
   "execution_count": 8,
   "metadata": {},
   "outputs": [],
   "source": [
    "month_out_bnds = np.tile(time_bnds_firstyear,(nyears_out,1))\n",
    "#month_out_bnds.shape\n",
    "date_out_bnds = np.tile(year_out, (2,1)).transpose()*365 + month_out_bnds\n"
   ]
  },
  {
   "cell_type": "code",
   "execution_count": 9,
   "metadata": {},
   "outputs": [],
   "source": [
    "file.variables['time'][:] = date_out"
   ]
  },
  {
   "cell_type": "code",
   "execution_count": 10,
   "metadata": {},
   "outputs": [],
   "source": [
    "file.variables['time_bnds'][:] = date_out_bnds"
   ]
  },
  {
   "cell_type": "code",
   "execution_count": 11,
   "metadata": {},
   "outputs": [],
   "source": [
    "#file.variables['CO2_flux']"
   ]
  },
  {
   "cell_type": "markdown",
   "metadata": {},
   "source": [
    "### Put the globally-integrated CO$_2$ emissions into a variable"
   ]
  },
  {
   "cell_type": "code",
   "execution_count": 12,
   "metadata": {},
   "outputs": [],
   "source": [
    "t = date_out / 365.\n",
    "y = gaussderiv(t,1004,150,45)"
   ]
  },
  {
   "cell_type": "code",
   "execution_count": 13,
   "metadata": {},
   "outputs": [],
   "source": [
    "y[-120:] = 0.  # pad out the lst ten years with zeros"
   ]
  },
  {
   "cell_type": "markdown",
   "metadata": {},
   "source": [
    "### Define lat and lon indices"
   ]
  },
  {
   "cell_type": "code",
   "execution_count": 14,
   "metadata": {},
   "outputs": [],
   "source": [
    "IM = len(file.variables['lon'][:])\n",
    "JM = len(file.variables['lat'][:])\n"
   ]
  },
  {
   "cell_type": "markdown",
   "metadata": {},
   "source": [
    "### Convert the globally-integrated CO$_2$ fluxes (in Pg C / year) to fluxes for each gridcell (in Kg CO$2$ / (m^2 sec))"
   ]
  },
  {
   "cell_type": "code",
   "execution_count": 15,
   "metadata": {},
   "outputs": [],
   "source": [
    "co2fluxdata = np.tile(y * 1.e12 * (44.01/12.01) / (global_gridcell_integrated_area * 86400. * 365.), (IM,JM,1))  # IM,JM))"
   ]
  },
  {
   "cell_type": "code",
   "execution_count": 16,
   "metadata": {},
   "outputs": [
    {
     "data": {
      "text/plain": [
       "(3720, 192, 288)"
      ]
     },
     "execution_count": 16,
     "metadata": {},
     "output_type": "execute_result"
    }
   ],
   "source": [
    "co2fluxdata.transpose().shape"
   ]
  },
  {
   "cell_type": "code",
   "execution_count": 17,
   "metadata": {},
   "outputs": [
    {
     "data": {
      "text/plain": [
       "(3720, 192, 288)"
      ]
     },
     "execution_count": 17,
     "metadata": {},
     "output_type": "execute_result"
    }
   ],
   "source": [
    "file.variables['CO2_flux'][:].shape"
   ]
  },
  {
   "cell_type": "markdown",
   "metadata": {},
   "source": [
    "### Put the new CO$_2$ flux data into the netcdf file"
   ]
  },
  {
   "cell_type": "code",
   "execution_count": 18,
   "metadata": {},
   "outputs": [],
   "source": [
    "file.variables['CO2_flux'][:] = co2fluxdata.transpose()"
   ]
  },
  {
   "cell_type": "markdown",
   "metadata": {},
   "source": [
    "### Make some changes to the netcdf file metadata."
   ]
  },
  {
   "cell_type": "code",
   "execution_count": 19,
   "metadata": {},
   "outputs": [],
   "source": [
    "file.variables['time'].units = 'days since 0001-01-01 00:00:00'"
   ]
  },
  {
   "cell_type": "code",
   "execution_count": 20,
   "metadata": {},
   "outputs": [],
   "source": [
    "file.data_title = \"Idealized emissions-driven CDR experiment, delta T = 300 years, max cumulative emissions = 1000 Pg C.\" ;\n",
    "file.data_summary = \"idealized data is output of function y = gaussderiv(t,a=1004,b=150,c=45), where gaussderiv function is y = (a*(b-t)*np.exp(-((b-t)**2.)/(2*c**2.)))/(c**2.). Peak value of 1004 Pg rather than 1000 Pg used to compensate for truncated tails.\"\n",
    "file.source_files = \"netcdf template from emissions-cmip6_CO2_anthro_surface_175001-201512_fv_0.9x1.25_c20181011.nc. script for generating is on https://github.com/ckoven/idealized_emissionsdriven_cdr_scenario. gridcell areas from areacella_fx_CESM2_1pctCO2_r1i1p1f1_gn.nc\"\n",
    "file.data_creator = \"charlie koven, cdkoven@lbl.gov\"\n",
    "file.creation_date = datetime.date.today().isoformat()\n",
    "file.data_script = \"make_idealized_edriven_scenario_forcingfile.ipynb\"\n",
    "file.data_reference = \"n/a\""
   ]
  },
  {
   "cell_type": "code",
   "execution_count": 21,
   "metadata": {},
   "outputs": [],
   "source": [
    "file.close()"
   ]
  },
  {
   "cell_type": "markdown",
   "metadata": {},
   "source": [
    "### Do some final checks and generate an md5 hash of the file that was just created for provenance tracking purposes."
   ]
  },
  {
   "cell_type": "code",
   "execution_count": 22,
   "metadata": {},
   "outputs": [
    {
     "data": {
      "text/plain": [
       "0.020479102268602667"
      ]
     },
     "execution_count": 22,
     "metadata": {},
     "output_type": "execute_result"
    }
   ],
   "source": [
    "y.cumsum()[3599]"
   ]
  },
  {
   "cell_type": "code",
   "execution_count": 23,
   "metadata": {},
   "outputs": [
    {
     "data": {
      "text/plain": [
       "1799"
      ]
     },
     "execution_count": 23,
     "metadata": {},
     "output_type": "execute_result"
    }
   ],
   "source": [
    "y.cumsum().argmax()"
   ]
  },
  {
   "cell_type": "code",
   "execution_count": 24,
   "metadata": {},
   "outputs": [
    {
     "data": {
      "text/plain": [
       "1260"
      ]
     },
     "execution_count": 24,
     "metadata": {},
     "output_type": "execute_result"
    }
   ],
   "source": [
    "y.argmax()"
   ]
  },
  {
   "cell_type": "code",
   "execution_count": 25,
   "metadata": {},
   "outputs": [
    {
     "data": {
      "text/plain": [
       "CompletedProcess(args=['md5', 'emissions_idealized_edrivencdr_000101-031012_fv_0.9x1.25_cdk_20220218.nc'], returncode=0, stdout=b'MD5 (emissions_idealized_edrivencdr_000101-031012_fv_0.9x1.25_cdk_20220218.nc) = 74bd73ade3fedc4431331cb74fc57535\\n')"
      ]
     },
     "execution_count": 25,
     "metadata": {},
     "output_type": "execute_result"
    }
   ],
   "source": [
    "#genarate a hash of the output file in case future verification is needed\n",
    "subprocess.run(['md5', fname_new], stdout=subprocess.PIPE)\n"
   ]
  },
  {
   "cell_type": "code",
   "execution_count": null,
   "metadata": {},
   "outputs": [],
   "source": []
  }
 ],
 "metadata": {
  "kernelspec": {
   "display_name": "Python 3 (ipykernel)",
   "language": "python",
   "name": "python3"
  },
  "language_info": {
   "codemirror_mode": {
    "name": "ipython",
    "version": 3
   },
   "file_extension": ".py",
   "mimetype": "text/x-python",
   "name": "python",
   "nbconvert_exporter": "python",
   "pygments_lexer": "ipython3",
   "version": "3.9.13"
  }
 },
 "nbformat": 4,
 "nbformat_minor": 4
}
